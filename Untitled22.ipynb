{
  "nbformat": 4,
  "nbformat_minor": 0,
  "metadata": {
    "colab": {
      "provenance": [],
      "authorship_tag": "ABX9TyOL/6z4d+QSifIyf/rMxZCM",
      "include_colab_link": true
    },
    "kernelspec": {
      "name": "python3",
      "display_name": "Python 3"
    },
    "language_info": {
      "name": "python"
    }
  },
  "cells": [
    {
      "cell_type": "markdown",
      "metadata": {
        "id": "view-in-github",
        "colab_type": "text"
      },
      "source": [
        "<a href=\"https://colab.research.google.com/github/2303A51046/PDS_B16_1046/blob/main/Untitled22.ipynb\" target=\"_parent\"><img src=\"https://colab.research.google.com/assets/colab-badge.svg\" alt=\"Open In Colab\"/></a>"
      ]
    },
    {
      "cell_type": "code",
      "execution_count": 1,
      "metadata": {
        "colab": {
          "base_uri": "https://localhost:8080/"
        },
        "id": "SnniYPQNiQDG",
        "outputId": "c556dbfa-340f-45ed-bc0e-384bb54c60f5"
      },
      "outputs": [
        {
          "output_type": "stream",
          "name": "stdout",
          "text": [
            "merged DataFrame:\n",
            "  student_ID   Name  Marks\n",
            "0        101   ravi     85\n",
            "1        102   neha     90\n",
            "2        103  kiran     78\n",
            "inner join:\n",
            "  student_ID   Name  Marks\n",
            "0        101   ravi     85\n",
            "1        102   neha     90\n",
            "2        103  kiran     78\n",
            "left join:\n",
            "  student_ID   Name  Marks\n",
            "0        101   ravi   85.0\n",
            "1        102   neha   90.0\n",
            "2        103  kiran   78.0\n",
            "3        104   sita    NaN\n",
            "right join:\n",
            "  student_ID   Name  Marks\n",
            "0        101   ravi     85\n",
            "1        102   neha     90\n",
            "2        103  kiran     78\n",
            "3        105    NaN     88\n",
            "outer join:\n",
            "  student_ID   Name  Marks\n",
            "0        101   ravi   85.0\n",
            "1        102   neha   90.0\n",
            "2        103  kiran   78.0\n",
            "3        104   sita    NaN\n",
            "4        105    NaN   88.0\n"
          ]
        }
      ],
      "source": [
        "import pandas as pd\n",
        "students=pd.DataFrame({\n",
        "  'student_ID':['101','102','103','104'],\n",
        "  'Name':['ravi','neha','kiran','sita']\n",
        "})\n",
        "marks=pd.DataFrame({\n",
        "    'student_ID':['101','102','103','105'],\n",
        "    'Marks':[85,90,78,88]\n",
        "\n",
        "})\n",
        "merged_df=pd.merge(students,marks,on='student_ID')\n",
        "print(\"merged DataFrame:\")\n",
        "print(merged_df)\n",
        "inner=pd.merge(students,marks,on='student_ID',how='inner')\n",
        "print(\"inner join:\")\n",
        "print(inner)\n",
        "left=pd.merge(students,marks,on='student_ID',how='left')\n",
        "print(\"left join:\")\n",
        "print(left)\n",
        "right=pd.merge(students,marks,on='student_ID',how='right')\n",
        "print(\"right join:\")\n",
        "print(right)\n",
        "outer=pd.merge(students,marks,on='student_ID',how='outer')\n",
        "print(\"outer join:\")\n",
        "print(outer)"
      ]
    }
  ]
}